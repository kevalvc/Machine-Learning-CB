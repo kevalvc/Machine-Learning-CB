{
 "cells": [
  {
   "cell_type": "code",
   "execution_count": 2,
   "metadata": {
    "collapsed": true
   },
   "outputs": [],
   "source": [
    "import matplotlib.pyplot as plt\n",
    "import pandas as pd\n",
    "import numpy as np\n"
   ]
  },
  {
   "cell_type": "markdown",
   "metadata": {},
   "source": [
    "### Data(X) - Acidity of Milk \n",
    "### Data(Y) - Density of Milk"
   ]
  },
  {
   "cell_type": "code",
   "execution_count": 24,
   "metadata": {},
   "outputs": [
    {
     "data": {
      "text/plain": [
       "array([ 0.99007,  0.99769,  0.99386,  0.99508,  0.9963 ,  1.0032 ,\n",
       "        0.99768,  0.99584,  0.99609,  0.99774,  1.0003 ,  0.99694,\n",
       "        0.99965,  0.99549,  0.99364,  0.99378,  0.99379,  0.99524,\n",
       "        0.9988 ,  0.99733,  0.9966 ,  0.9955 ,  0.99471,  0.99354,\n",
       "        0.99786,  0.9965 ,  0.9988 ,  0.9964 ,  0.99713,  0.9985 ,\n",
       "        0.99565,  0.99578,  0.9976 ,  1.0014 ,  0.99685,  0.99648,\n",
       "        0.99472,  0.99914,  0.99408,  0.9974 ,  1.0002 ,  0.99402,\n",
       "        0.9966 ,  0.99402,  1.0029 ,  0.99718,  0.9986 ,  0.9952 ,\n",
       "        0.9952 ,  0.9972 ,  0.9976 ,  0.9968 ,  0.9978 ,  0.9951 ,\n",
       "        0.99629,  0.99656,  0.999  ,  0.99836,  0.99396,  0.99387,\n",
       "        1.0004 ,  0.9972 ,  0.9972 ,  0.99546,  0.9978 ,  0.99596,\n",
       "        0.99572,  0.9992 ,  0.99544,  0.99747,  0.99668,  0.9962 ,\n",
       "        0.99346,  0.99514,  0.99476,  1.001  ,  0.9961 ,  0.99598,\n",
       "        0.99608,  0.9966 ,  0.99732,  0.9962 ,  0.99546,  0.99738,\n",
       "        0.99456,  0.9966 ,  0.99553,  0.9984 ,  0.9952 ,  0.997  ,\n",
       "        0.99586,  0.9984 ,  0.99542,  0.99655,  0.9962 ,  0.9976 ,\n",
       "        0.99464,  0.9983 ,  0.9967 ])"
      ]
     },
     "execution_count": 24,
     "metadata": {},
     "output_type": "execute_result"
    }
   ],
   "source": [
    "def readData(filename):\n",
    "    df = pd.read_csv(filename)\n",
    "    return df.values\n",
    "\n",
    "x = readData('./linearX.csv')\n",
    "y = readData('./linearY.csv')\n",
    "x.reshape((99,))\n",
    "y.reshape((99,))"
   ]
  },
  {
   "cell_type": "code",
   "execution_count": 7,
   "metadata": {
    "scrolled": true
   },
   "outputs": [
    {
     "name": "stdout",
     "output_type": "stream",
     "text": [
      "(99, 1)\n"
     ]
    }
   ],
   "source": [
    "print(x.shape)"
   ]
  },
  {
   "cell_type": "code",
   "execution_count": 12,
   "metadata": {},
   "outputs": [
    {
     "data": {
      "image/png": "[encoded data removed]",
      "text/plain": [
       "<matplotlib.figure.Figure at 0x1af22ac7588>"
      ]
     },
     "metadata": {},
     "output_type": "display_data"
    }
   ],
   "source": [
    "a = [1, 2, 3]\n",
    "b = [10, 20, 30]\n",
    "plt.scatter(a,b)\n",
    "plt.show()"
   ]
  },
  {
   "cell_type": "code",
   "execution_count": 25,
   "metadata": {
    "scrolled": true
   },
   "outputs": [
    {
     "data": {
      "image/png": "[encoded data removed]",
      "text/plain": [
       "<matplotlib.figure.Figure at 0x1af24359320>"
      ]
     },
     "metadata": {},
     "output_type": "display_data"
    }
   ],
   "source": [
    "### Plot the Data\n",
    "plt.scatter(x,y)\n",
    "plt.show()"
   ]
  },
  {
   "cell_type": "code",
   "execution_count": 15,
   "metadata": {},
   "outputs": [
    {
     "data": {
      "text/plain": [
       "8.0515151515151508"
      ]
     },
     "execution_count": 15,
     "metadata": {},
     "output_type": "execute_result"
    }
   ],
   "source": [
    "x.mean()"
   ]
  },
  {
   "cell_type": "code",
   "execution_count": 35,
   "metadata": {},
   "outputs": [
    {
     "data": {
      "image/png": "[encoded data removed]",
      "text/plain": [
       "<matplotlib.figure.Figure at 0x1af22dda2b0>"
      ]
     },
     "metadata": {},
     "output_type": "display_data"
    }
   ],
   "source": [
    "# Normalization\n",
    "x = x - x.mean()/(x.std())\n",
    "plt.scatter(x, y)\n",
    "plt.show()\n",
    "\n",
    "X = x\n",
    "Y = y"
   ]
  },
  {
   "cell_type": "markdown",
   "metadata": {},
   "source": [
    "### Algo - Linear Regression"
   ]
  },
  {
   "cell_type": "code",
   "execution_count": 54,
   "metadata": {},
   "outputs": [
    {
     "name": "stdout",
     "output_type": "stream",
     "text": [
      "[ 49.1675491]\n",
      "[ 39.82624564]\n",
      "[ 32.30345708]\n",
      "[ 26.2233248]\n",
      "[ 21.29831096]\n",
      "[ 17.30356514]\n",
      "[ 14.06069936]\n",
      "[ 11.426875]\n",
      "[ 9.28705512]\n",
      "[ 7.54826088]\n",
      "[ 6.13517645]\n",
      "[ 4.98671149]\n",
      "[ 4.05327356]\n",
      "[ 3.29458403]\n",
      "[ 2.6779189]\n",
      "[ 2.17668696]\n",
      "[ 1.76927804]\n",
      "[ 1.43812876]\n",
      "[ 1.16896412]\n",
      "[ 0.95018154]\n",
      "[ 0.7723504]\n",
      "[ 0.6278054]\n",
      "[ 0.51031605]\n",
      "[ 0.41481813]\n",
      "[ 0.3371953]\n",
      "[ 0.27410174]\n",
      "[ 0.2228179]\n",
      "[ 0.18113325]\n",
      "[ 0.14725104]\n",
      "[ 0.11971083]\n",
      "[ 0.09732553]\n",
      "[ 0.07913026]\n",
      "[ 0.06434074]\n",
      "[ 0.05231949]\n",
      "[ 0.04254835]\n",
      "[ 0.03460616]\n",
      "[ 0.02815056]\n",
      "[ 0.02290331]\n",
      "[ 0.01863822]\n",
      "[ 0.01517147]\n",
      "[ 0.01235361]\n",
      "[ 0.0100632]\n",
      "[ 0.0082015]\n",
      "[ 0.00668826]\n",
      "[ 0.00545828]\n",
      "[ 0.00445851]\n",
      "[ 0.00364588]\n",
      "[ 0.00298536]\n",
      "[ 0.00244847]\n",
      "[ 0.00201208]\n",
      "[ 0.00165737]\n",
      "[ 0.00136905]\n",
      "[ 0.0011347]\n",
      "[ 0.00094422]\n",
      "[ 0.00078939]\n",
      "[ 0.00066354]\n",
      "[ 0.00056124]\n",
      "[ 0.0004781]\n",
      "[ 0.00041051]\n",
      "[ 0.00035558]\n",
      "[ 0.00031093]\n",
      "[ 0.00027464]\n",
      "[ 0.00024514]\n",
      "[ 0.00022116]\n",
      "[ 0.00020167]\n",
      "[ 0.00018583]\n",
      "[ 0.00017295]\n",
      "[ 0.00016248]\n",
      "[ 0.00015397]\n",
      "[ 0.00014706]\n",
      "[ 0.00014144]\n",
      "[ 0.00013687]\n",
      "[ 0.00013316]\n",
      "[ 0.00013014]\n",
      "[ 0.00012769]\n",
      "[ 0.00012569]\n",
      "[ 0.00012407]\n",
      "[ 0.00012275]\n",
      "[ 0.00012168]\n",
      "[ 0.00012081]\n",
      "[ 0.0001201]\n",
      "[ 0.00011953]\n",
      "[ 0.00011906]\n",
      "[ 0.00011868]\n",
      "[ 0.00011837]\n",
      "[ 0.00011812]\n",
      "[ 0.00011792]\n",
      "[ 0.00011775]\n",
      "[ 0.00011762]\n",
      "[ 0.00011751]\n",
      "[ 0.00011742]\n",
      "[ 0.00011735]\n",
      "[ 0.00011729]\n",
      "[ 0.00011724]\n",
      "[ 0.0001172]\n",
      "[ 0.00011717]\n",
      "[ 0.00011714]\n",
      "[ 0.00011712]\n",
      "[ 0.0001171]\n",
      "[ 0.00011709]\n",
      "0.996518580089 0.000787237108225\n"
     ]
    }
   ],
   "source": [
    "def hypothesis(theta,x):\n",
    "    return theta[0] + theta[1]*x\n",
    "\n",
    "def error(X,Y,theta):\n",
    "    total_error = 0\n",
    "    m = X.shape[0]\n",
    "    \n",
    "    for i in range(m):\n",
    "        total_error += (Y[i] - hypothesis(theta,X[i]))**2\n",
    "    \n",
    "    return 0.5*total_error\n",
    "\n",
    "def gradient(Y,X,theta):\n",
    "    grad = np.array([0.0,0.0])\n",
    "    m = X.shape[0]\n",
    "    for i in range(m):\n",
    "        grad[0] += -1*(Y[i] - hypothesis(theta,X[i]))\n",
    "        grad[1] += -1*(Y[i] - hypothesis(theta,X[i]))*X[i]        \n",
    "    return grad\n",
    "\n",
    "def gradientDescent(X,Y,learning_rate,maxItr):\n",
    "    grad = np.array([0.0,0.0])\n",
    "    theta = np.array([0.0,0.0])\n",
    "    e = []\n",
    "    \n",
    "    for i in range(maxItr):\n",
    "        grad = gradient(Y, X, theta)\n",
    "        ce = error(X, Y, theta)\n",
    "        print(ce)\n",
    "        theta[0] = theta[0] - learning_rate*grad[0]\n",
    "        theta[1] = theta[1] - learning_rate*grad[1]\n",
    "        e.append(ce)\n",
    "        \n",
    "    return theta, e\n",
    "\n",
    "theta,e = gradientDescent(X, Y, learning_rate = 0.001, maxItr = 100)\n",
    "print(theta[0], theta[1])"
   ]
  },
  {
   "cell_type": "code",
   "execution_count": 51,
   "metadata": {},
   "outputs": [
    {
     "data": {
      "image/png": "[encoded data removed]",
      "text/plain": [
       "<matplotlib.figure.Figure at 0x1af244c6d30>"
      ]
     },
     "metadata": {},
     "output_type": "display_data"
    }
   ],
   "source": [
    "plt.scatter(X,Y)\n",
    "plt.plot(X,hypothesis(theta,X),color='r')\n",
    "plt.show()"
   ]
  },
  {
   "cell_type": "code",
   "execution_count": 52,
   "metadata": {},
   "outputs": [
    {
     "data": {
      "image/png": "[encoded data removed]",
      "text/plain": [
       "<matplotlib.figure.Figure at 0x1af244e1ac8>"
      ]
     },
     "metadata": {},
     "output_type": "display_data"
    }
   ],
   "source": [
    "plt.plot(e)\n",
    "plt.show()"
   ]
  },
  {
   "cell_type": "code",
   "execution_count": 53,
   "metadata": {},
   "outputs": [
    {
     "name": "stdout",
     "output_type": "stream",
     "text": [
      "[ 0.00201208]\n"
     ]
    }
   ],
   "source": [
    "print(e[49])"
   ]
  },
  {
   "cell_type": "code",
   "execution_count": null,
   "metadata": {
    "collapsed": true
   },
   "outputs": [],
   "source": []
  }
 ],
 "metadata": {
  "kernelspec": {
   "display_name": "Python 3",
   "language": "python",
   "name": "python3"
  },
  "language_info": {
   "codemirror_mode": {
    "name": "ipython",
    "version": 3
   },
   "file_extension": ".py",
   "mimetype": "text/x-python",
   "name": "python",
   "nbconvert_exporter": "python",
   "pygments_lexer": "ipython3",
   "version": "3.6.3"
  }
 },
 "nbformat": 4,
 "nbformat_minor": 2
}
